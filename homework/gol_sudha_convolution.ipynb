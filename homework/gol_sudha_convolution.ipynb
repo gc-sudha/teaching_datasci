{
 "cells": [
  {
   "cell_type": "markdown",
   "metadata": {},
   "source": [
    "## Game of life \n",
    "##### Sudha GC Upadhaya"
   ]
  },
  {
   "cell_type": "code",
   "execution_count": 2,
   "metadata": {},
   "outputs": [],
   "source": [
    "import time\n",
    "import numpy as np\n",
    "import matplotlib.pyplot as plt\n",
    "from IPython.display import clear_output, display_html\n",
    "from scipy.signal import convolve, convolve2d"
   ]
  },
  {
   "cell_type": "code",
   "execution_count": 3,
   "metadata": {},
   "outputs": [
    {
     "data": {
      "text/plain": [
       "array([[0, 0, 0, 0, 1, 0],\n",
       "       [0, 1, 0, 0, 0, 0],\n",
       "       [1, 0, 1, 1, 0, 0],\n",
       "       [0, 0, 0, 0, 0, 0],\n",
       "       [0, 1, 0, 0, 1, 0],\n",
       "       [0, 1, 0, 1, 0, 0]])"
      ]
     },
     "execution_count": 3,
     "metadata": {},
     "output_type": "execute_result"
    }
   ],
   "source": [
    "grid = np.array([\n",
    "    [0, 0, 0, 0, 1, 0],\n",
    "    [0, 1, 0, 0, 0, 0],\n",
    "    [1, 0, 1, 1, 0, 0],\n",
    "    [0, 0, 0, 0, 0, 0],\n",
    "    [0, 1, 0, 0, 1, 0],\n",
    "    [0, 1, 0, 1, 0, 0]\n",
    "])\n",
    "grid"
   ]
  },
  {
   "cell_type": "markdown",
   "metadata": {},
   "source": [
    "### Workflow\n",
    "#### Demonstration of convolve2d\n",
    "<img src = 'convolve.png'>\n",
    "\n",
    "Briefly,\n",
    "* Create a filter of shape (3,3) and populate with 1 except for cell (1,1]\n",
    "* convolve the filter through each grid. Use 'wrap' function to work around border and use mode = 'same' to return output grid of same shape as input grid\n",
    "* Total number of live neighbors for each cell will be counted through calculation \n",
    "* Apply GOL rules and return new generation"
   ]
  },
  {
   "cell_type": "code",
   "execution_count": 3,
   "metadata": {},
   "outputs": [],
   "source": [
    "class GOL:\n",
    "    \n",
    "    def __init__(self, my_world, n_gen):# GOL take the input of grid and no. of generations\n",
    "        self.world = my_world\n",
    "        self.n_gen = n_gen\n",
    "        \n",
    "    def new_gen(self, x):\n",
    "        filter = np.ones((3,3)) # create 3*3 filter\n",
    "        filter[1,1] = 0\n",
    "        neighbor_count = convolve2d(x, filter, mode='same', boundary='wrap') # count no. of live neighbors for each cell\n",
    "        return (neighbor_count == 3) | (x & (neighbor_count == 2)) # apply GOL rules\n",
    "    \n",
    "    def nth_gen(self):\n",
    "        for _ in range(self.n_gen): # run GOL for nth generation\n",
    "            self.world = self.new_gen(self.world)\n",
    "        return self.world\n",
    "            \n",
    "    def display_simulation(self): # display 'n' new generations\n",
    "        for _ in range(self.n_gen):\n",
    "            clear_output()\n",
    "            self.world = self.new_gen(self.world)\n",
    "            self.picture()\n",
    "            time.sleep(1.5)\n",
    "            \n",
    "    def picture(self, world=None): # define display function here \n",
    "        if world is None:\n",
    "            world = self.world\n",
    "        print(str(world))"
   ]
  },
  {
   "cell_type": "markdown",
   "metadata": {},
   "source": [
    "#### Simulate game of life 10 times:"
   ]
  },
  {
   "cell_type": "code",
   "execution_count": 4,
   "metadata": {},
   "outputs": [
    {
     "name": "stdout",
     "output_type": "stream",
     "text": [
      "[[0 0 0 0 0 0]\n",
      " [0 0 0 0 0 0]\n",
      " [0 0 0 0 0 0]\n",
      " [0 0 0 0 0 0]\n",
      " [0 0 0 0 0 0]\n",
      " [0 0 0 0 0 0]]\n"
     ]
    }
   ],
   "source": [
    "new_world = GOL(grid, 10)\n",
    "simulate_ngen = new_world.display_simulation()\n",
    "simulate_ngen"
   ]
  },
  {
   "cell_type": "markdown",
   "metadata": {},
   "source": [
    "#### Generation: 0\n",
    "* yellow: alive\n",
    "* purple: dead"
   ]
  },
  {
   "cell_type": "code",
   "execution_count": 5,
   "metadata": {},
   "outputs": [
    {
     "data": {
      "text/plain": [
       "<matplotlib.image.AxesImage at 0x7f3078faee10>"
      ]
     },
     "execution_count": 5,
     "metadata": {},
     "output_type": "execute_result"
    },
    {
     "data": {
      "image/png": "[encoded data removed]",
      "text/plain": [
       "<Figure size 432x288 with 1 Axes>"
      ]
     },
     "metadata": {
      "needs_background": "light"
     },
     "output_type": "display_data"
    }
   ],
   "source": [
    "plt.imshow(grid)"
   ]
  },
  {
   "cell_type": "markdown",
   "metadata": {},
   "source": [
    "#### Generation: 5"
   ]
  },
  {
   "cell_type": "code",
   "execution_count": 6,
   "metadata": {},
   "outputs": [
    {
     "data": {
      "text/plain": [
       "<matplotlib.image.AxesImage at 0x7f3078f1fad0>"
      ]
     },
     "execution_count": 6,
     "metadata": {},
     "output_type": "execute_result"
    },
    {
     "data": {
      "image/png": "[encoded data removed]",
      "text/plain": [
       "<Figure size 432x288 with 1 Axes>"
      ]
     },
     "metadata": {
      "needs_background": "light"
     },
     "output_type": "display_data"
    }
   ],
   "source": [
    "new_world = GOL(grid, 5)\n",
    "gen_10 = plt.imshow(new_world.nth_gen())\n",
    "gen_10"
   ]
  },
  {
   "cell_type": "code",
   "execution_count": 7,
   "metadata": {},
   "outputs": [
    {
     "name": "stdout",
     "output_type": "stream",
     "text": [
      "[[0 0 0 0 0 0]\n",
      " [0 0 0 0 0 0]\n",
      " [0 0 0 0 0 0]\n",
      " [0 0 0 0 0 0]\n",
      " [0 0 0 0 0 0]\n",
      " [0 0 0 0 0 0]]\n"
     ]
    }
   ],
   "source": [
    "new_world = GOL(grid, 10)\n",
    "print(new_world.nth_gen())"
   ]
  },
  {
   "cell_type": "markdown",
   "metadata": {},
   "source": [
    "## Minimal Working Example"
   ]
  },
  {
   "cell_type": "markdown",
   "metadata": {},
   "source": [
    "#### MWE 1"
   ]
  },
  {
   "cell_type": "markdown",
   "metadata": {},
   "source": [
    "Hi, I am trying to visulalize two images side by side like numpy arrays in above code. However, only last image is been displayed. Can you please help me visulaize both images?"
   ]
  },
  {
   "cell_type": "code",
   "execution_count": 8,
   "metadata": {},
   "outputs": [
    {
     "name": "stdout",
     "output_type": "stream",
     "text": [
      "[[0.61421878 0.36602052 0.22366803]\n",
      " [0.59475757 0.04929375 0.30843183]\n",
      " [0.03292433 0.34815964 0.04662302]]\n",
      "[[1. 0. 0.]\n",
      " [0. 1. 0.]\n",
      " [0. 0. 1.]]\n"
     ]
    },
    {
     "data": {
      "text/plain": [
       "(<matplotlib.image.AxesImage at 0x7f3078ef53d0>,\n",
       " <matplotlib.image.AxesImage at 0x7f3078eb8bd0>)"
      ]
     },
     "execution_count": 8,
     "metadata": {},
     "output_type": "execute_result"
    },
    {
     "data": {
      "image/png": "[encoded data removed]",
      "text/plain": [
       "<Figure size 432x288 with 1 Axes>"
      ]
     },
     "metadata": {
      "needs_background": "light"
     },
     "output_type": "display_data"
    }
   ],
   "source": [
    "import numpy as np\n",
    "import matplotlib.pyplot as plt\n",
    "print(np.random.rand(3,3)), print(np.eye(3,3))\n",
    "plt.imshow(np.random.rand(3,3), cmap = 'hot'), plt.imshow(np.eye(3,3), cmap = 'hot')"
   ]
  },
  {
   "cell_type": "markdown",
   "metadata": {},
   "source": [
    "#### MWE 2"
   ]
  },
  {
   "cell_type": "markdown",
   "metadata": {},
   "source": [
    "Hello, I want to create an email address using first and last name. The output I want is (mary.smith@wsu.edu) with all letters lowercase. The code I am trying to use is below. But I am getting an error (Error message below) Could you please guide me through this?"
   ]
  },
  {
   "cell_type": "code",
   "execution_count": 10,
   "metadata": {},
   "outputs": [],
   "source": [
    "class Record:\n",
    "    def __init__(self, first, last):\n",
    "        self.first = first\n",
    "        self.last = last\n",
    "        self.email = (first.last)\n",
    "#Name = Record('Mary','Smith') \n",
    "#Name.email"
   ]
  },
  {
   "cell_type": "raw",
   "metadata": {},
   "source": [
    "--------------------------------------------------------------------------\n",
    "AttributeError                            Traceback (most recent call last)\n",
    "<ipython-input-295-2384f2cc6041> in <module>\n",
    "      4         self.last = last\n",
    "      5         self.email = (first.last)\n",
    "----> 6 Name = Record('Mary','Smith')\n",
    "      7 Name.email\n",
    "\n",
    "<ipython-input-295-2384f2cc6041> in __init__(self, first, last)\n",
    "      3         self.first = first\n",
    "      4         self.last = last\n",
    "----> 5         self.email = (first.last)\n",
    "      6 Name = Record('Mary','Smith')\n",
    "      7 Name.email\n",
    "\n",
    "AttributeError: 'str' object has no attribute 'last'"
   ]
  },
  {
   "cell_type": "markdown",
   "metadata": {},
   "source": [
    "#### MWE 3"
   ]
  },
  {
   "cell_type": "markdown",
   "metadata": {},
   "source": [
    "I have a numpy array 'a'with nan values in it. I want to replace 'nan' with zeros and return array as in 'expected_output'. I tried isnan() function to assign value. But I am getting the error. "
   ]
  },
  {
   "cell_type": "code",
   "execution_count": null,
   "metadata": {},
   "outputs": [],
   "source": [
    "a = np.empty((3,3))\n",
    "a[:] = np.nan\n",
    "expected_output= np.zeros((3,3))\n",
    "print(a)\n",
    "np.isnan(a) = 0"
   ]
  },
  {
   "cell_type": "raw",
   "metadata": {},
   "source": [
    "File \"<ipython-input-50-980a69da46f9>\", line 5\n",
    "    np.isnan(a) = 0\n",
    "                   ^\n",
    "SyntaxError: can't assign to function call"
   ]
  }
 ],
 "metadata": {
  "kernelspec": {
   "display_name": "Python 3",
   "language": "python",
   "name": "python3"
  },
  "language_info": {
   "codemirror_mode": {
    "name": "ipython",
    "version": 3
   },
   "file_extension": ".py",
   "mimetype": "text/x-python",
   "name": "python",
   "nbconvert_exporter": "python",
   "pygments_lexer": "ipython3",
   "version": "3.7.4"
  }
 },
 "nbformat": 4,
 "nbformat_minor": 5
}
