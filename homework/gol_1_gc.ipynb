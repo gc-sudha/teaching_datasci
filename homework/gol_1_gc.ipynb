{
 "cells": [
  {
   "cell_type": "markdown",
   "metadata": {},
   "source": [
    "**Homework: GOL-1** \n",
    "+ Date: 1/25/2022\n",
    "+ Sudha GC Upadhaya"
   ]
  },
  {
   "cell_type": "markdown",
   "metadata": {},
   "source": [
    "### Proposed workflow \n",
    "Below is the sketch to work around the border. Briefly,\n",
    "* List out the cordinates for the neighbors\n",
    "* If cordinates contains less than 0 and more than len(grid) return '0' else return cell value\n",
    "* Count no. of live cells \n",
    "* Apply GOL rules to return next generation \n",
    "\n",
    "<img src=\"gol_1_workflow.png\" height=\"1200\"/>"
   ]
  },
  {
   "cell_type": "markdown",
   "metadata": {},
   "source": [
    "#### Count no. of live neighbors"
   ]
  },
  {
   "cell_type": "markdown",
   "metadata": {},
   "source": [
    "**Input grid**"
   ]
  },
  {
   "cell_type": "code",
   "execution_count": 37,
   "metadata": {},
   "outputs": [
    {
     "data": {
      "text/plain": [
       "[[0, 0, 0, 0, 1, 0],\n",
       " [0, 1, 0, 0, 0, 0],\n",
       " [1, 0, 1, 1, 0, 0],\n",
       " [0, 0, 0, 0, 0, 0],\n",
       " [0, 1, 0, 0, 1, 0],\n",
       " [0, 1, 0, 1, 0, 0]]"
      ]
     },
     "execution_count": 37,
     "metadata": {},
     "output_type": "execute_result"
    }
   ],
   "source": [
    "grid = [\n",
    "    [0, 0, 0, 0, 1, 0],\n",
    "    [0, 1, 0, 0, 0, 0],\n",
    "    [1, 0, 1, 1, 0, 0],\n",
    "    [0, 0, 0, 0, 0, 0],\n",
    "    [0, 1, 0, 0, 1, 0],\n",
    "    [0, 1, 0, 1, 0, 0]\n",
    "]\n",
    "grid"
   ]
  },
  {
   "cell_type": "markdown",
   "metadata": {},
   "source": [
    "**Expected output**"
   ]
  },
  {
   "cell_type": "code",
   "execution_count": 38,
   "metadata": {},
   "outputs": [
    {
     "data": {
      "text/plain": [
       "[[0, 0, 0, 0, 0, 0],\n",
       " [0, 1, 1, 1, 0, 0],\n",
       " [0, 1, 1, 0, 0, 0],\n",
       " [0, 1, 1, 1, 0, 0],\n",
       " [0, 0, 1, 0, 0, 0],\n",
       " [0, 0, 1, 0, 0, 0]]"
      ]
     },
     "execution_count": 38,
     "metadata": {},
     "output_type": "execute_result"
    }
   ],
   "source": [
    "expected_result = [\n",
    "    [0, 0, 0, 0, 0, 0],\n",
    "    [0, 1, 1, 1, 0, 0],\n",
    "    [0, 1, 1, 0, 0, 0],\n",
    "    [0, 1, 1, 1, 0, 0],\n",
    "    [0, 0, 1, 0, 0, 0],\n",
    "    [0, 0, 1, 0, 0, 0]\n",
    "]\n",
    "expected_result"
   ]
  },
  {
   "cell_type": "markdown",
   "metadata": {},
   "source": [
    "#### Define a function to count no. of live neighbors"
   ]
  },
  {
   "cell_type": "code",
   "execution_count": 39,
   "metadata": {},
   "outputs": [],
   "source": [
    "def count_neighbors(mat, x, y):\n",
    "    \"\"\"Count the number of (alive) neighbors in a world\n",
    "    based on the integer coordinates x and y.\"\"\"\n",
    "    cord = ((x-1, y-1), (x-1, y), (x-1, y+1), \n",
    "            (x, y-1), (x, y+1),\n",
    "            (x+1, y-1), (x+1, y), (x+1, y+1))\n",
    "    \n",
    "    new_list = []\n",
    "    for x, y in cord:\n",
    "        if (-1 < x < len(mat)) and (-1 < y < len(mat)):\n",
    "            new = mat[x][y]\n",
    "        else:\n",
    "            new = 0\n",
    "        new_list.append(new)\n",
    "    return(sum(new_list))"
   ]
  },
  {
   "cell_type": "markdown",
   "metadata": {},
   "source": [
    "**check if works**"
   ]
  },
  {
   "cell_type": "code",
   "execution_count": 40,
   "metadata": {},
   "outputs": [
    {
     "data": {
      "text/plain": [
       "6"
      ]
     },
     "execution_count": 40,
     "metadata": {},
     "output_type": "execute_result"
    }
   ],
   "source": [
    "len(grid)"
   ]
  },
  {
   "cell_type": "markdown",
   "metadata": {},
   "source": [
    "**return live neighbors for [0][0]**"
   ]
  },
  {
   "cell_type": "code",
   "execution_count": 41,
   "metadata": {},
   "outputs": [
    {
     "data": {
      "text/plain": [
       "1"
      ]
     },
     "execution_count": 41,
     "metadata": {},
     "output_type": "execute_result"
    }
   ],
   "source": [
    "grid = [\n",
    "    [0, 0, 0, 0, 1, 0],\n",
    "    [0, 1, 0, 0, 0, 0],\n",
    "    [1, 0, 1, 1, 0, 0],\n",
    "    [0, 0, 0, 0, 0, 0],\n",
    "    [0, 1, 0, 0, 1, 0],\n",
    "    [0, 1, 0, 1, 0, 0]\n",
    "]\n",
    "count_neighbors(grid,0,0)"
   ]
  },
  {
   "cell_type": "markdown",
   "metadata": {},
   "source": [
    "**return live neighbors for [5][2]** \n",
    "\n",
    "Code worked around the border and returned the number of live neighbors for the cells in the border"
   ]
  },
  {
   "cell_type": "code",
   "execution_count": 52,
   "metadata": {},
   "outputs": [
    {
     "name": "stdout",
     "output_type": "stream",
     "text": [
      "3\n",
      "2\n"
     ]
    }
   ],
   "source": [
    "grid = [\n",
    "    [0, 0, 0, 0, 1, 0],\n",
    "    [0, 1, 0, 0, 0, 0],\n",
    "    [1, 0, 1, 1, 0, 0],\n",
    "    [0, 0, 0, 0, 0, 0],\n",
    "    [0, 1, 0, 0, 1, 0],\n",
    "    [0, 1, 0, 1, 0, 0]\n",
    "]\n",
    "print(count_neighbors(grid,5,2))\n",
    "print(count_neighbors(grid, 5,4))"
   ]
  },
  {
   "cell_type": "markdown",
   "metadata": {},
   "source": [
    "#### Define a function to apply GOL rules"
   ]
  },
  {
   "cell_type": "code",
   "execution_count": 67,
   "metadata": {},
   "outputs": [],
   "source": [
    "def new_generation(world):\n",
    "    \n",
    "    new_gen = world.copy()\n",
    "    \n",
    "    for r in range(len(world)):\n",
    "        \n",
    "        for c in range(len(world[0])):\n",
    "            \n",
    "            count = count_neighbors(world,r,c)\n",
    "            \n",
    "            state = world[r][c]\n",
    "            \n",
    "            if ((count == 2) or (count == 3)) and (state == 1):\n",
    "                new_gen[r][c] = 1\n",
    "                \n",
    "            elif (count == 3) and (state == 0):\n",
    "                new_gen[r][c] = 1\n",
    "                \n",
    "            else:\n",
    "                new_gen[r][c] = 0\n",
    "          \n",
    "    return new_gen"
   ]
  },
  {
   "cell_type": "markdown",
   "metadata": {},
   "source": [
    "**Run code**"
   ]
  },
  {
   "cell_type": "code",
   "execution_count": 68,
   "metadata": {},
   "outputs": [
    {
     "data": {
      "text/plain": [
       "[[0, 0, 0, 0, 0, 0],\n",
       " [0, 1, 1, 1, 0, 0],\n",
       " [0, 1, 0, 1, 0, 0],\n",
       " [0, 0, 1, 1, 1, 0],\n",
       " [0, 1, 0, 0, 1, 0],\n",
       " [0, 0, 0, 0, 0, 0]]"
      ]
     },
     "execution_count": 68,
     "metadata": {},
     "output_type": "execute_result"
    }
   ],
   "source": [
    "grid= [\n",
    "    [0, 0, 0, 0, 1, 0],\n",
    "    [0, 1, 0, 0, 0, 0],\n",
    "    [1, 0, 1, 1, 0, 0],\n",
    "    [0, 0, 0, 0, 0, 0],\n",
    "    [0, 1, 0, 0, 1, 0],\n",
    "    [0, 1, 0, 1, 0, 0]\n",
    "]\n",
    "for a in range(10):\n",
    "    grid = new_generation(grid)\n",
    "    break\n",
    "grid"
   ]
  },
  {
   "cell_type": "markdown",
   "metadata": {},
   "source": [
    "#### Note about the output: \n",
    "\n",
    "It didn't give me exact output I wanted. \n",
    "```\n",
    "expected output after one generation = \n",
    "[\n",
    "    [0, 0, 0, 0, 0, 0],\n",
    "    [0, 1, 1, 1, 0, 0],\n",
    "    [0, 1, 1, 0, 0, 0],\n",
    "    [0, 1, 1, 1, 0, 0],\n",
    "    [0, 0, 1, 0, 0, 0],\n",
    "    [0, 0, 1, 0, 0, 0]\n",
    "]\n",
    "```\n",
    ">It worked for the 1st and 2nd row but not afterwards. For eg. for the live neighbor count for (5,2) it returned correct neighbor count i.e. 3. However in the output grid it returned '0' instead of '1'. Ideally, the output should be '1' since, it was '0' before and has '3' live neighbor should be live in next geneartion. "
   ]
  },
  {
   "cell_type": "code",
   "execution_count": 60,
   "metadata": {},
   "outputs": [
    {
     "data": {
      "text/plain": [
       "3"
      ]
     },
     "execution_count": 60,
     "metadata": {},
     "output_type": "execute_result"
    }
   ],
   "source": [
    "grid= [\n",
    "    [0, 0, 0, 0, 1, 0],\n",
    "    [0, 1, 0, 0, 0, 0],\n",
    "    [1, 0, 1, 1, 0, 0],\n",
    "    [0, 0, 0, 0, 0, 0],\n",
    "    [0, 1, 0, 0, 1, 0],\n",
    "    [0, 1, 0, 1, 0, 0]\n",
    "]\n",
    "count_neighbors(grid,5, 2)"
   ]
  },
  {
   "cell_type": "markdown",
   "metadata": {},
   "source": [
    "**Run 10 iterations**"
   ]
  },
  {
   "cell_type": "code",
   "execution_count": 61,
   "metadata": {},
   "outputs": [
    {
     "data": {
      "text/plain": [
       "[[0, 0, 0, 0, 0, 0],\n",
       " [0, 0, 0, 0, 1, 1],\n",
       " [0, 0, 0, 1, 0, 1],\n",
       " [0, 0, 0, 1, 1, 0],\n",
       " [0, 0, 0, 0, 0, 0],\n",
       " [0, 0, 0, 0, 0, 0]]"
      ]
     },
     "execution_count": 61,
     "metadata": {},
     "output_type": "execute_result"
    }
   ],
   "source": [
    "grid= [\n",
    "    [0, 0, 0, 0, 1, 0],\n",
    "    [0, 1, 0, 0, 0, 0],\n",
    "    [1, 0, 1, 1, 0, 0],\n",
    "    [0, 0, 0, 0, 0, 0],\n",
    "    [0, 1, 0, 0, 1, 0],\n",
    "    [0, 1, 0, 1, 0, 0]\n",
    "]\n",
    "bank = []\n",
    "for a in range(10):\n",
    "    grid = new_generation(grid)\n",
    "    bank.append(grid)\n",
    "grid"
   ]
  },
  {
   "cell_type": "markdown",
   "metadata": {},
   "source": [
    "#### Another workaround to avoid error in the edge"
   ]
  },
  {
   "cell_type": "code",
   "execution_count": 46,
   "metadata": {},
   "outputs": [
    {
     "ename": "IndexError",
     "evalue": "list index out of range",
     "output_type": "error",
     "traceback": [
      "\u001b[0;31m---------------------------------------------------------------------------\u001b[0m",
      "\u001b[0;31mIndexError\u001b[0m                                Traceback (most recent call last)",
      "\u001b[0;32m<ipython-input-46-6b4f794be69e>\u001b[0m in \u001b[0;36m<module>\u001b[0;34m\u001b[0m\n\u001b[1;32m      8\u001b[0m     )\n\u001b[1;32m      9\u001b[0m \u001b[0;34m\u001b[0m\u001b[0m\n\u001b[0;32m---> 10\u001b[0;31m \u001b[0mcount_neighbors\u001b[0m\u001b[0;34m(\u001b[0m\u001b[0mgrid\u001b[0m\u001b[0;34m,\u001b[0m \u001b[0;36m5\u001b[0m\u001b[0;34m,\u001b[0m \u001b[0;36m5\u001b[0m\u001b[0;34m)\u001b[0m\u001b[0;34m\u001b[0m\u001b[0;34m\u001b[0m\u001b[0m\n\u001b[0m",
      "\u001b[0;32m<ipython-input-46-6b4f794be69e>\u001b[0m in \u001b[0;36mcount_neighbors\u001b[0;34m(world, x, y)\u001b[0m\n\u001b[1;32m      5\u001b[0m         \u001b[0mworld\u001b[0m\u001b[0;34m[\u001b[0m\u001b[0mx\u001b[0m\u001b[0;34m-\u001b[0m\u001b[0;36m1\u001b[0m\u001b[0;34m]\u001b[0m\u001b[0;34m[\u001b[0m\u001b[0my\u001b[0m\u001b[0;34m-\u001b[0m\u001b[0;36m1\u001b[0m\u001b[0;34m]\u001b[0m \u001b[0;34m+\u001b[0m \u001b[0mworld\u001b[0m\u001b[0;34m[\u001b[0m\u001b[0mx\u001b[0m\u001b[0;34m]\u001b[0m\u001b[0;34m[\u001b[0m\u001b[0my\u001b[0m\u001b[0;34m-\u001b[0m\u001b[0;36m1\u001b[0m\u001b[0;34m]\u001b[0m \u001b[0;34m+\u001b[0m \u001b[0mworld\u001b[0m\u001b[0;34m[\u001b[0m\u001b[0mx\u001b[0m\u001b[0;34m+\u001b[0m\u001b[0;36m1\u001b[0m\u001b[0;34m]\u001b[0m\u001b[0;34m[\u001b[0m\u001b[0my\u001b[0m\u001b[0;34m-\u001b[0m\u001b[0;36m1\u001b[0m\u001b[0;34m]\u001b[0m \u001b[0;34m+\u001b[0m\u001b[0;34m\u001b[0m\u001b[0;34m\u001b[0m\u001b[0m\n\u001b[1;32m      6\u001b[0m         \u001b[0mworld\u001b[0m\u001b[0;34m[\u001b[0m\u001b[0mx\u001b[0m\u001b[0;34m-\u001b[0m\u001b[0;36m1\u001b[0m\u001b[0;34m]\u001b[0m\u001b[0;34m[\u001b[0m\u001b[0my\u001b[0m  \u001b[0;34m]\u001b[0m                 \u001b[0;34m+\u001b[0m \u001b[0mworld\u001b[0m\u001b[0;34m[\u001b[0m\u001b[0mx\u001b[0m\u001b[0;34m+\u001b[0m\u001b[0;36m1\u001b[0m\u001b[0;34m]\u001b[0m\u001b[0;34m[\u001b[0m\u001b[0my\u001b[0m  \u001b[0;34m]\u001b[0m \u001b[0;34m+\u001b[0m\u001b[0;34m\u001b[0m\u001b[0;34m\u001b[0m\u001b[0m\n\u001b[0;32m----> 7\u001b[0;31m         \u001b[0mworld\u001b[0m\u001b[0;34m[\u001b[0m\u001b[0mx\u001b[0m\u001b[0;34m-\u001b[0m\u001b[0;36m1\u001b[0m\u001b[0;34m]\u001b[0m\u001b[0;34m[\u001b[0m\u001b[0my\u001b[0m\u001b[0;34m+\u001b[0m\u001b[0;36m1\u001b[0m\u001b[0;34m]\u001b[0m \u001b[0;34m+\u001b[0m \u001b[0mworld\u001b[0m\u001b[0;34m[\u001b[0m\u001b[0mx\u001b[0m\u001b[0;34m]\u001b[0m\u001b[0;34m[\u001b[0m\u001b[0my\u001b[0m\u001b[0;34m+\u001b[0m\u001b[0;36m1\u001b[0m\u001b[0;34m]\u001b[0m \u001b[0;34m+\u001b[0m \u001b[0mworld\u001b[0m\u001b[0;34m[\u001b[0m\u001b[0mx\u001b[0m\u001b[0;34m+\u001b[0m\u001b[0;36m1\u001b[0m\u001b[0;34m]\u001b[0m\u001b[0;34m[\u001b[0m\u001b[0my\u001b[0m\u001b[0;34m+\u001b[0m\u001b[0;36m1\u001b[0m\u001b[0;34m]\u001b[0m\u001b[0;34m\u001b[0m\u001b[0;34m\u001b[0m\u001b[0m\n\u001b[0m\u001b[1;32m      8\u001b[0m     )\n\u001b[1;32m      9\u001b[0m \u001b[0;34m\u001b[0m\u001b[0m\n",
      "\u001b[0;31mIndexError\u001b[0m: list index out of range"
     ]
    }
   ],
   "source": [
    "def count_neighbors(world, x, y):\n",
    "    \"\"\"Count the number of (alive) neighbors in a world\n",
    "    based on the integer coordinates x and y.\"\"\"\n",
    "    return (\n",
    "        world[x-1][y-1] + world[x][y-1] + world[x+1][y-1] +\n",
    "        world[x-1][y  ]                 + world[x+1][y  ] + \n",
    "        world[x-1][y+1] + world[x][y+1] + world[x+1][y+1]\n",
    "    )\n",
    "\n",
    "count_neighbors(grid, 5, 5)"
   ]
  },
  {
   "cell_type": "markdown",
   "metadata": {},
   "source": [
    "* Below, if code shows error it returns 0 (This is more of a avoiding problem than solving it. You can ignore this section)"
   ]
  },
  {
   "cell_type": "code",
   "execution_count": 14,
   "metadata": {},
   "outputs": [
    {
     "data": {
      "text/plain": [
       "0"
      ]
     },
     "execution_count": 14,
     "metadata": {},
     "output_type": "execute_result"
    }
   ],
   "source": [
    "def count_neighbors(world, x, y):\n",
    "    \"\"\"Count the number of (alive) neighbors in a world\n",
    "    based on the integer coordinates x and y.\"\"\"\n",
    "    try:\n",
    "        return (\n",
    "        world[x-1][y-1] + world[x][y-1] + world[x+1][y-1] +\n",
    "        world[x-1][y  ]                 + world[x+1][y  ] + \n",
    "        world[x-1][y+1] + world[x][y+1] + world[x+1][y+1]\n",
    "        )\n",
    "    except IndexError as error:\n",
    "        return 0\n",
    "\n",
    "count_neighbors(grid, 5,5)"
   ]
  }
 ],
 "metadata": {
  "kernelspec": {
   "display_name": "Python 3",
   "language": "python",
   "name": "python3"
  },
  "language_info": {
   "codemirror_mode": {
    "name": "ipython",
    "version": 3
   },
   "file_extension": ".py",
   "mimetype": "text/x-python",
   "name": "python",
   "nbconvert_exporter": "python",
   "pygments_lexer": "ipython3",
   "version": "3.7.4"
  }
 },
 "nbformat": 4,
 "nbformat_minor": 4
}
