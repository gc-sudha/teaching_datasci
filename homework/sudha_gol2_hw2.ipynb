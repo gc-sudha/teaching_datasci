{
 "cells": [
  {
   "cell_type": "markdown",
   "metadata": {},
   "source": [
    "#### Game of Life 2\n",
    "##### Sudha GC Upadhaya"
   ]
  },
  {
   "cell_type": "markdown",
   "metadata": {},
   "source": [
    "#### Norvig's code\n",
    "\n",
    "##### Bigger picture of Norvig's implementation of GOL\n",
    "\n",
    "<img src = 'gol2_overall_sudha.png'>\n",
    "\n",
    "He used a set of live cells as an input and returned a set of live cells as an output after nth  generation. Below is the breakdown of the process.\n",
    "\n",
    "##### Zoom in\n",
    "<img src = 'gol_2_details_sudha.png'>"
   ]
  },
  {
   "cell_type": "code",
   "execution_count": 1,
   "metadata": {},
   "outputs": [
    {
     "data": {
      "text/plain": [
       "{(1, 2), (1, 3), (2, 3)}"
      ]
     },
     "execution_count": 1,
     "metadata": {},
     "output_type": "execute_result"
    }
   ],
   "source": [
    "from collections import Counter\n",
    "\n",
    "def next_generation(world):\n",
    "    \"The set of live cells in the next generation.\"\n",
    "    possible_cells = counts = neighbor_counts(world)\n",
    "    return {cell for cell in possible_cells\n",
    "            if (counts[cell] == 3)\n",
    "            or (counts[cell] == 2 and cell in world)}\n",
    "\n",
    "def neighbor_counts(world):\n",
    "    \"A {cell: int} counter of the number of live neighbors for each cell that has neighbors.\"\n",
    "    return Counter(nb for cell in world\n",
    "                      for nb in neighbors(cell))\n",
    "\n",
    "def neighbors(cell):\n",
    "    \"All 8 adjacent neighbors of cell.\"\n",
    "    (x, y) = cell\n",
    "    return [(x-1, y-1), (x, y-1), (x+1, y-1),\n",
    "            (x-1, y),             (x+1, y),\n",
    "            (x-1, y+1), (x, y+1), (x+1, y+1)]\n",
    "\n",
    "\n",
    "world = {(3, 1), (1, 2), (1, 3), (2, 3)}\n",
    "next_generation(world)\n"
   ]
  },
  {
   "cell_type": "code",
   "execution_count": 11,
   "metadata": {},
   "outputs": [
    {
     "data": {
      "text/plain": [
       "[(1, 2), (2, 2), (3, 2), (1, 3), (3, 3), (1, 4), (2, 4), (3, 4)]"
      ]
     },
     "execution_count": 11,
     "metadata": {},
     "output_type": "execute_result"
    }
   ],
   "source": [
    "neighbors((2,3))"
   ]
  },
  {
   "cell_type": "code",
   "execution_count": 15,
   "metadata": {},
   "outputs": [
    {
     "data": {
      "text/plain": [
       "Counter({(0, 1): 1,\n",
       "         (1, 1): 1,\n",
       "         (2, 1): 2,\n",
       "         (0, 2): 2,\n",
       "         (2, 2): 4,\n",
       "         (0, 3): 2,\n",
       "         (1, 3): 2,\n",
       "         (2, 3): 2,\n",
       "         (2, 0): 1,\n",
       "         (3, 0): 1,\n",
       "         (4, 0): 1,\n",
       "         (4, 1): 1,\n",
       "         (3, 2): 2,\n",
       "         (4, 2): 1,\n",
       "         (1, 2): 2,\n",
       "         (3, 3): 1,\n",
       "         (1, 4): 2,\n",
       "         (2, 4): 2,\n",
       "         (3, 4): 1,\n",
       "         (0, 4): 1})"
      ]
     },
     "execution_count": 15,
     "metadata": {},
     "output_type": "execute_result"
    }
   ],
   "source": [
    "world = {(3, 1), (1, 2), (1, 3), (2, 3)}\n",
    "neighbor_counts(world)"
   ]
  },
  {
   "cell_type": "code",
   "execution_count": 16,
   "metadata": {},
   "outputs": [
    {
     "data": {
      "text/plain": [
       "{(1, 2), (1, 3), (2, 3)}"
      ]
     },
     "execution_count": 16,
     "metadata": {},
     "output_type": "execute_result"
    }
   ],
   "source": [
    "world = {(3, 1), (1, 2), (1, 3), (2, 3)}\n",
    "next_generation(world)"
   ]
  },
  {
   "cell_type": "markdown",
   "metadata": {},
   "source": [
    "#### Set of live cells after 1st generation"
   ]
  },
  {
   "cell_type": "code",
   "execution_count": 6,
   "metadata": {},
   "outputs": [
    {
     "data": {
      "text/plain": [
       "{(1, 2), (1, 3), (2, 3)}"
      ]
     },
     "execution_count": 6,
     "metadata": {},
     "output_type": "execute_result"
    }
   ],
   "source": [
    "world = {(3, 1), (1, 2), (1, 3), (2, 3)}\n",
    "for a in range(100):\n",
    "    world = next_generation(world)\n",
    "    break\n",
    "world"
   ]
  },
  {
   "cell_type": "markdown",
   "metadata": {},
   "source": [
    "#### Set of live cells after 100 generations"
   ]
  },
  {
   "cell_type": "code",
   "execution_count": 7,
   "metadata": {},
   "outputs": [
    {
     "data": {
      "text/plain": [
       "{(1, 2), (1, 3), (2, 2), (2, 3)}"
      ]
     },
     "execution_count": 7,
     "metadata": {},
     "output_type": "execute_result"
    }
   ],
   "source": [
    "world = {(3, 1), (1, 2), (1, 3), (2, 3)}\n",
    "for a in range(100):\n",
    "    world = next_generation(world)\n",
    "world"
   ]
  },
  {
   "cell_type": "markdown",
   "metadata": {},
   "source": [
    "#### My version of Norvig's code:"
   ]
  },
  {
   "cell_type": "code",
   "execution_count": 3,
   "metadata": {},
   "outputs": [
    {
     "data": {
      "text/plain": [
       "{(1, 2), (1, 3), (2, 3)}"
      ]
     },
     "execution_count": 3,
     "metadata": {},
     "output_type": "execute_result"
    }
   ],
   "source": [
    "def next_gen(world):\n",
    "    \"The set of live cells in the next generation.\"\n",
    "    possible_cells = counts = neigh_cnt(world)\n",
    "    for cell in counts.items():\n",
    "        new = {cell for cell in possible_cells if (counts[cell] == 3) or\n",
    "               (counts[cell] == 2 and (cell in world))}\n",
    "    return(new)\n",
    "\n",
    "\n",
    "def neigh_cnt(world): \n",
    "    a = []\n",
    "    for (cell) in world:\n",
    "        for (b) in neigh(cell):\n",
    "            a.append(b)\n",
    "    return(Counter(a))\n",
    "\n",
    "\n",
    "def neigh(cell):\n",
    "    \"All 8 adjacent neighbors of cell.\"\n",
    "    (x, y) = cell\n",
    "    return [(x-1, y-1), (x, y-1), (x+1, y-1),\n",
    "            (x-1, y),             (x+1, y),\n",
    "            (x-1, y+1), (x, y+1), (x+1, y+1)]\n",
    "\n",
    "world = {(3, 1), (1, 2), (1, 3), (2, 3)}\n",
    "next_gen(world)"
   ]
  },
  {
   "cell_type": "markdown",
   "metadata": {},
   "source": [
    "##### after 100 generation"
   ]
  },
  {
   "cell_type": "code",
   "execution_count": 4,
   "metadata": {},
   "outputs": [
    {
     "data": {
      "text/plain": [
       "{(1, 2), (1, 3), (2, 2), (2, 3)}"
      ]
     },
     "execution_count": 4,
     "metadata": {},
     "output_type": "execute_result"
    }
   ],
   "source": [
    "world = {(3, 1), (1, 2), (1, 3), (2, 3)}\n",
    "for a in range(100):\n",
    "    world = next_gen(world)\n",
    "world"
   ]
  },
  {
   "cell_type": "markdown",
   "metadata": {},
   "source": [
    "#### Display function"
   ]
  },
  {
   "cell_type": "code",
   "execution_count": 6,
   "metadata": {},
   "outputs": [],
   "source": [
    "LIVE  = '@'\n",
    "EMPTY = '.'\n",
    "PAD   = ' '\n",
    "\n",
    "def picture1(world, Xs, Ys):\n",
    "    def row1(y):\n",
    "        a = []\n",
    "        for x in Xs:\n",
    "            if (x,y) in world:\n",
    "                new = LIVE\n",
    "            else:\n",
    "                new = EMPTY\n",
    "            a.append(new)\n",
    "        return(PAD.join(a))\n",
    "    \n",
    "    return '\\n'.join(row1(y) for y in Ys)"
   ]
  },
  {
   "cell_type": "code",
   "execution_count": 7,
   "metadata": {},
   "outputs": [
    {
     "name": "stdout",
     "output_type": "stream",
     "text": [
      ". . . . . .\n",
      ". . . @ . .\n",
      ". @ . . . .\n",
      ". @ @ . . .\n",
      ". . . . . .\n",
      ". . . . @ .\n"
     ]
    }
   ],
   "source": [
    "world = {(3, 1), (1, 2), (1, 3), (2, 3), (4,5)}\n",
    "print(picture1(world, range(6), range(6)))"
   ]
  },
  {
   "cell_type": "code",
   "execution_count": 8,
   "metadata": {},
   "outputs": [
    {
     "name": "stdout",
     "output_type": "stream",
     "text": [
      ". . . . . .\n",
      ". . . . . .\n",
      ". @ . . . .\n",
      ". @ @ . . .\n",
      ". . . . . .\n",
      ". . . . . .\n"
     ]
    }
   ],
   "source": [
    "world = {(3, 1), (1, 2), (1, 3), (2, 3), (4,5)}\n",
    "world1 = next_generation(world)\n",
    "print(picture1(world1, range(6), range(6)))"
   ]
  },
  {
   "cell_type": "code",
   "execution_count": 12,
   "metadata": {},
   "outputs": [],
   "source": [
    "LIVE  = '@'\n",
    "EMPTY = '.'\n",
    "PAD   = ' '\n",
    "\n",
    "def picture(world, Xs, Ys):\n",
    "    \"Return a picture: a grid of characters representing the cells in this window.\"\n",
    "    def row(y): \n",
    "        new = PAD.join(LIVE if (x, y) in world else EMPTY for x in range(5))\n",
    "        return(new)\n",
    "    return '\\n'.join(row(y) for y in Ys)"
   ]
  },
  {
   "cell_type": "code",
   "execution_count": 18,
   "metadata": {},
   "outputs": [
    {
     "name": "stdout",
     "output_type": "stream",
     "text": [
      ". . . . .\n",
      ". . . @ .\n",
      ". @ . . .\n",
      ". @ @ . .\n",
      ". . . . .\n",
      ". . . . @\n"
     ]
    }
   ],
   "source": [
    "world = {(3, 1), (1, 2), (1, 3), (2, 3), (4,5)}\n",
    "print(picture(world, range(6), range(6)))"
   ]
  },
  {
   "cell_type": "code",
   "execution_count": 19,
   "metadata": {},
   "outputs": [
    {
     "name": "stdout",
     "output_type": "stream",
     "text": [
      ". . . . .\n",
      ". . . . .\n",
      ". @ . . .\n",
      ". @ @ . .\n",
      ". . . . .\n",
      ". . . . .\n"
     ]
    }
   ],
   "source": [
    "world = {(3, 1), (1, 2), (1, 3), (2, 3), (4,5)}\n",
    "world1 = next_generation(world)\n",
    "print(picture(world1, range(6), range(6)))"
   ]
  },
  {
   "cell_type": "code",
   "execution_count": null,
   "metadata": {},
   "outputs": [],
   "source": []
  }
 ],
 "metadata": {
  "kernelspec": {
   "display_name": "Python 3",
   "language": "python",
   "name": "python3"
  },
  "language_info": {
   "codemirror_mode": {
    "name": "ipython",
    "version": 3
   },
   "file_extension": ".py",
   "mimetype": "text/x-python",
   "name": "python",
   "nbconvert_exporter": "python",
   "pygments_lexer": "ipython3",
   "version": "3.7.4"
  }
 },
 "nbformat": 4,
 "nbformat_minor": 4
}
